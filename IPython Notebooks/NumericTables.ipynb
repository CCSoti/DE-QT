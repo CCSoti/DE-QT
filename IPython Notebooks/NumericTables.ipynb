{
 "metadata": {
  "name": "",
  "signature": "sha256:044f4abdbe8769ee1334d5864f4cb627314d0de9e65a8db05a0d16ac04341c8a"
 },
 "nbformat": 3,
 "nbformat_minor": 0,
 "worksheets": [
  {
   "cells": [
    {
     "cell_type": "code",
     "collapsed": false,
     "input": [
      "import pandas as pd\n",
      "from pandas import DataFrame, Series\n",
      "import numpy\n",
      "import matplotlib\n",
      "import sqlite3\n",
      "import sys\n",
      "# import MySQLdb as mdb\n",
      "import csv\n",
      "%pylab inline\n",
      "import pandas as pd\n",
      "import matplotlib.pyplot as pyplot\n",
      "from IPython.display import HTML\n",
      "from collections import Counter"
     ],
     "language": "python",
     "metadata": {},
     "outputs": [
      {
       "output_type": "stream",
       "stream": "stdout",
       "text": [
        "Populating the interactive namespace from numpy and matplotlib\n"
       ]
      }
     ],
     "prompt_number": 2
    },
    {
     "cell_type": "code",
     "collapsed": false,
     "input": [
      "conn = sqlite3.connect(\"C:/Users/SilviyaSoti/Documents/4_Level_Course/Project/codemets.db\")\n",
      "result= conn.execute('select * from mappingapp_sample')\n",
      "cursor = conn.cursor()"
     ],
     "language": "python",
     "metadata": {},
     "outputs": [],
     "prompt_number": 3
    },
    {
     "cell_type": "code",
     "collapsed": false,
     "input": [
      "cursor.execute('select * from mappingapp_coordinates')\n",
      "allAttr = cursor.fetchall()\n",
      "ids = [attr[0] for attr in allAttr]\n",
      "bng_ing = [attr[1] for attr in allAttr]\n",
      "grid_ref = [attr[2] for attr in allAttr]\n",
      "easting = [attr[3] for attr in allAttr]\n",
      "northing = [attr[4] for attr in allAttr]\n",
      "lat = [attr[5] for attr in allAttr]\n",
      "longs = [attr[6] for attr in allAttr]\n",
      "elevation = [attr[7] for attr in allAttr]"
     ],
     "language": "python",
     "metadata": {},
     "outputs": [],
     "prompt_number": 4
    },
    {
     "cell_type": "code",
     "collapsed": false,
     "input": [
      "from decimal import Decimal\n",
      "from statistics import *\n",
      "import math\n",
      "\n",
      "class Numerical(list):\n",
      "    \n",
      "    def _max_precission_(self): \n",
      "        decimals = []  \n",
      "        for l in self:\n",
      "            if(l is None):\n",
      "                self.remove(l)   \n",
      "            if (l!=None):\n",
      "                dec = abs(Decimal(str(l)).as_tuple().exponent)\n",
      "                decimals.append(dec)\n",
      "\n",
      "        print (min(decimals),max(decimals))\n",
      "        \n",
      "    def _min_value_(self):\n",
      "        for l in self:\n",
      "            if(l is None):\n",
      "                self.remove(l)\n",
      "        print (min(self))\n",
      "        \n",
      "    def _max_value_(self):\n",
      "#         big_list = []\n",
      "        small_list = []\n",
      "        for l in self:\n",
      "            if(l is not None):                               \n",
      "                if(l<500):\n",
      "#                 big_list.append(l)\n",
      "#                 self.remove(l) \n",
      "                  small_list.append(l)\n",
      "        print (max(small_list))\n",
      "        \n",
      "    def _strd_dev_(self):\n",
      "        small_list = []\n",
      "        for l in self:\n",
      "            if(l is not None):                               \n",
      "                if(l<500):\n",
      "                  small_list.append(l)\n",
      "        print (pstdev(small_list))"
     ],
     "language": "python",
     "metadata": {},
     "outputs": [],
     "prompt_number": 7
    },
    {
     "cell_type": "code",
     "collapsed": false,
     "input": [
      "Numerical(lat)._min_value_()\n",
      "Numerical(lat)._max_value_()\n",
      "Numerical(lat)._strd_dev_()"
     ],
     "language": "python",
     "metadata": {},
     "outputs": [
      {
       "output_type": "stream",
       "stream": "stdout",
       "text": [
        "49.96676\n",
        "60.329613\n"
       ]
      },
      {
       "ename": "NameError",
       "evalue": "global name 'pstdev' is not defined",
       "output_type": "pyerr",
       "traceback": [
        "\u001b[1;31m---------------------------------------------------------------------------\u001b[0m\n\u001b[1;31mNameError\u001b[0m                                 Traceback (most recent call last)",
        "\u001b[1;32m<ipython-input-189-d0dba0c89ea8>\u001b[0m in \u001b[0;36m<module>\u001b[1;34m()\u001b[0m\n\u001b[0;32m      1\u001b[0m \u001b[0mNumerical\u001b[0m\u001b[1;33m(\u001b[0m\u001b[0mlat\u001b[0m\u001b[1;33m)\u001b[0m\u001b[1;33m.\u001b[0m\u001b[0m_min_value_\u001b[0m\u001b[1;33m(\u001b[0m\u001b[1;33m)\u001b[0m\u001b[1;33m\u001b[0m\u001b[0m\n\u001b[0;32m      2\u001b[0m \u001b[0mNumerical\u001b[0m\u001b[1;33m(\u001b[0m\u001b[0mlat\u001b[0m\u001b[1;33m)\u001b[0m\u001b[1;33m.\u001b[0m\u001b[0m_max_value_\u001b[0m\u001b[1;33m(\u001b[0m\u001b[1;33m)\u001b[0m\u001b[1;33m\u001b[0m\u001b[0m\n\u001b[1;32m----> 3\u001b[1;33m \u001b[0mNumerical\u001b[0m\u001b[1;33m(\u001b[0m\u001b[0mlat\u001b[0m\u001b[1;33m)\u001b[0m\u001b[1;33m.\u001b[0m\u001b[0m_strd_dev_\u001b[0m\u001b[1;33m(\u001b[0m\u001b[1;33m)\u001b[0m\u001b[1;33m\u001b[0m\u001b[0m\n\u001b[0m",
        "\u001b[1;32m<ipython-input-188-5d2e05f1a6e2>\u001b[0m in \u001b[0;36m_strd_dev_\u001b[1;34m(self)\u001b[0m\n\u001b[0;32m     38\u001b[0m                 \u001b[1;32mif\u001b[0m\u001b[1;33m(\u001b[0m\u001b[0ml\u001b[0m\u001b[1;33m<\u001b[0m\u001b[1;36m500\u001b[0m\u001b[1;33m)\u001b[0m\u001b[1;33m:\u001b[0m\u001b[1;33m\u001b[0m\u001b[0m\n\u001b[0;32m     39\u001b[0m                   \u001b[0msmall_list\u001b[0m\u001b[1;33m.\u001b[0m\u001b[0mappend\u001b[0m\u001b[1;33m(\u001b[0m\u001b[0ml\u001b[0m\u001b[1;33m)\u001b[0m\u001b[1;33m\u001b[0m\u001b[0m\n\u001b[1;32m---> 40\u001b[1;33m         \u001b[1;32mprint\u001b[0m \u001b[0mpstdev\u001b[0m\u001b[1;33m(\u001b[0m\u001b[0msmall_list\u001b[0m\u001b[1;33m)\u001b[0m\u001b[1;33m\u001b[0m\u001b[0m\n\u001b[0m",
        "\u001b[1;31mNameError\u001b[0m: global name 'pstdev' is not defined"
       ]
      }
     ],
     "prompt_number": 189
    },
    {
     "cell_type": "code",
     "collapsed": false,
     "input": [
      "pstdev([1,2,3,4,5])"
     ],
     "language": "python",
     "metadata": {},
     "outputs": [
      {
       "ename": "NameError",
       "evalue": "name 'pstdev' is not defined",
       "output_type": "pyerr",
       "traceback": [
        "\u001b[1;31m---------------------------------------------------------------------------\u001b[0m\n\u001b[1;31mNameError\u001b[0m                                 Traceback (most recent call last)",
        "\u001b[1;32m<ipython-input-190-3dd4d76f9501>\u001b[0m in \u001b[0;36m<module>\u001b[1;34m()\u001b[0m\n\u001b[1;32m----> 1\u001b[1;33m \u001b[0mpstdev\u001b[0m\u001b[1;33m(\u001b[0m\u001b[1;33m[\u001b[0m\u001b[1;36m1\u001b[0m\u001b[1;33m,\u001b[0m\u001b[1;36m2\u001b[0m\u001b[1;33m,\u001b[0m\u001b[1;36m3\u001b[0m\u001b[1;33m,\u001b[0m\u001b[1;36m4\u001b[0m\u001b[1;33m,\u001b[0m\u001b[1;36m5\u001b[0m\u001b[1;33m]\u001b[0m\u001b[1;33m)\u001b[0m\u001b[1;33m\u001b[0m\u001b[0m\n\u001b[0m",
        "\u001b[1;31mNameError\u001b[0m: name 'pstdev' is not defined"
       ]
      }
     ],
     "prompt_number": 190
    },
    {
     "cell_type": "code",
     "collapsed": false,
     "input": [],
     "language": "python",
     "metadata": {},
     "outputs": []
    }
   ],
   "metadata": {}
  }
 ]
}
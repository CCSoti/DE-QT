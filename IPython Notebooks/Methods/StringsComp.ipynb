{
 "metadata": {
  "name": "",
  "signature": "sha256:c40318ee19cf78f34f78085dbafbf3a68c0c2a642a1aa87d60c6afad0175e4d9"
 },
 "nbformat": 3,
 "nbformat_minor": 0,
 "worksheets": [
  {
   "cells": [
    {
     "cell_type": "code",
     "collapsed": false,
     "input": [
      "import distance\n",
      "import pandas as pd\n",
      "from pandas import DataFrame, Series\n",
      "import numpy\n",
      "import matplotlib\n",
      "import sqlite3\n",
      "import sys\n",
      "# import MySQLdb as mdb\n",
      "import csv\n",
      "%pylab inline\n",
      "import pandas as pd\n",
      "import matplotlib.pyplot as pyplot\n",
      "from IPython.display import HTML\n",
      "from collections import Counter"
     ],
     "language": "python",
     "metadata": {},
     "outputs": [
      {
       "output_type": "stream",
       "stream": "stdout",
       "text": [
        "Populating the interactive namespace from numpy and matplotlib\n"
       ]
      }
     ],
     "prompt_number": 3
    },
    {
     "cell_type": "code",
     "collapsed": false,
     "input": [
      "conn = sqlite3.connect(\"C:/Users/SilviyaSoti/Documents/4_Level_Course/Project/codemets.db\")\n",
      "result= conn.execute('select * from mappingapp_sample')\n",
      "cursor = conn.cursor()"
     ],
     "language": "python",
     "metadata": {},
     "outputs": [],
     "prompt_number": 4
    },
    {
     "cell_type": "code",
     "collapsed": false,
     "input": [
      "cursor.execute('select * from mappingapp_coordinates')\n",
      "allAttr = cursor.fetchall()\n",
      "ids = [attr[0] for attr in allAttr]\n",
      "bng_ing = [attr[1] for attr in allAttr]\n",
      "grid_ref = [attr[2] for attr in allAttr]\n",
      "easting = [attr[3] for attr in allAttr]\n",
      "northing = [attr[4] for attr in allAttr]\n",
      "lat = [attr[5] for attr in allAttr]\n",
      "longs = [attr[6] for attr in allAttr]\n",
      "elevation = [attr[7] for attr in allAttr]"
     ],
     "language": "python",
     "metadata": {},
     "outputs": [],
     "prompt_number": 5
    },
    {
     "cell_type": "code",
     "collapsed": false,
     "input": [
      "from decimal import Decimal\n",
      "from statistics import *\n",
      "import math\n",
      "\n",
      "class Strings_comp(list):\n",
      "    \n",
      "    def clear_data(self):\n",
      "        small_list = []\n",
      "        for l in self:\n",
      "            if(l is not None):  \n",
      "                if(l!=\"\"):\n",
      "                    small_list.append(l)                    \n",
      "        return small_list\n",
      "    \n",
      "    def leven(self):\n",
      "        all_dis = []\n",
      "        small_list = Strings_comp(self).clear_data()\n",
      "        for i in range(0, len(small_list)-1):\n",
      "            cursor = small_list[i]\n",
      "            for j in range(i+1, len(small_list)-1):\n",
      "                dis = distance.levenshtein(cursor, small_list[j])\n",
      "                all_dis.append(dis)\n",
      "        return all_dis\n",
      "    \n",
      "#     normalized --> jaccard\n",
      "    def jacc(self):\n",
      "        all_dis = []\n",
      "        small_list = Strings_comp(self).clear_data()\n",
      "        for i in range(0, len(small_list)-1):\n",
      "            cursor = small_list[i]          \n",
      "            for j in range(i+1, len(small_list)-1):             \n",
      "                dis = distance.jaccard(cursor, small_list[j])\n",
      "                all_dis.append(dis)\n",
      "        \n",
      "        dict_v = Counter(all_dis).values()        \n",
      "        return all_dis\n",
      "    \n",
      "    def jacc_diff_values(self):\n",
      "        all_dis = Strings_comp(self).jacc()\n",
      "        dict_v = Counter(all_dis).values()\n",
      "        return len(dict_v)\n",
      "        \n",
      "    def jacc_max(self):\n",
      "        all_dis = []\n",
      "        small_list = Strings_comp(self).clear_data()\n",
      "        for i in range(0, len(small_list)-1):\n",
      "            cursor = small_list[i]          \n",
      "            for j in range(i+1, len(small_list)-1):             \n",
      "                dis = distance.jaccard(cursor, small_list[j])   \n",
      "                print\n",
      "                if (dis!=0.0):\n",
      "                    all_dis.append(dis)\n",
      "        return min(all_dis)\n",
      "    \n",
      "    def jacc_high_pair(self):\n",
      "        all_dis = []\n",
      "        pair = []\n",
      "        max_jacc = Strings_comp(self).jacc_max()\n",
      "        small_list = Strings_comp(self).clear_data()\n",
      "        for i in range(0, len(small_list)-1):\n",
      "            cursor = small_list[i]          \n",
      "            for j in range(i+1, len(small_list)-1):             \n",
      "                dis = distance.jaccard(cursor, small_list[j])\n",
      "                if (dis == max_jacc):\n",
      "                    pair.append(cursor)\n",
      "                    pair.append(small_list[j])\n",
      "                if (dis!=0.0):\n",
      "                    all_dis.append(dis)\n",
      "                       \n",
      "#         for p in range(0, len(pair)-1):\n",
      "#             if(p!=0):\n",
      "#                 p -= 1\n",
      "#             m = p+1\n",
      "#             while(m <= (len(pair)-1)):\n",
      "#                 if (distance.jaccard(pair[p], pair[m])==0.0):\n",
      "#                     pair.remove(pair[m])\n",
      "#                 m = m + 1\n",
      "        return pair[:2]\n",
      "        \n",
      "        \n",
      "    def num_diff_values(self):\n",
      "        all_diff = []\n",
      "        small_list = Strings_comp(self).clear_data()\n",
      "        dict_v = Counter(small_list).values()\n",
      "        return len(dict_v)\n",
      "    \n",
      "    def most_com_value(self):\n",
      "        small_list = Strings_comp(self).clear_data()\n",
      "        dict_v = Counter(small_list).values()\n",
      "        return Counter(small_list).most_common(1)\n",
      "    \n",
      "    def com_value_perc(self):\n",
      "        small_list = Strings_comp(self).clear_data()\n",
      "        com_value = max(Counter(small_list).values())\n",
      "        all_values = len(small_list)\n",
      "        percentage = (com_value/all_values)*100\n",
      "        return percentage\n",
      "    \n",
      "#     the values that are most referenced to the most common value\n",
      "    def ref_one(self):\n",
      "        small_list = Strings_comp(self).clear_data()\n",
      "        ref_value = Strings_comp(self).most_com_value()\n",
      "        ref_list = sorted(distance.ilevenshtein(ref_value[0][0], small_list, max_dist=1)) \n",
      "        return ref_list[11:14]"
     ],
     "language": "python",
     "metadata": {},
     "outputs": [],
     "prompt_number": 17
    },
    {
     "cell_type": "code",
     "collapsed": false,
     "input": [
      "# print(Strings_comp(bng_ing).leven())\n",
      "# print(Strings_comp(bng_ing).jacc())\n",
      "# print(Strings_comp(bng_ing).jacc_diff_values())\n",
      "# print(Strings_comp(bng_ing).jacc_max())\n",
      "# print(Strings_comp(bng_ing).jacc_high_pair())\n",
      "# print(Strings_comp(bng_ing).num_diff_values())\n",
      "# print(Strings_comp(bng_ing).most_com_value())\n",
      "# print(Strings_comp(bng_ing).com_value_perc())\n",
      "print(Strings_comp(bng_ing).ref_one())"
     ],
     "language": "python",
     "metadata": {},
     "outputs": [
      {
       "output_type": "stream",
       "stream": "stdout",
       "text": [
        "[(0, '8 Figure grid coordinate'), (0, '8 Figure grid coordinate'), (0, '8 Figure grid coordinate')]\n"
       ]
      }
     ],
     "prompt_number": 18
    },
    {
     "cell_type": "code",
     "collapsed": false,
     "input": [],
     "language": "python",
     "metadata": {},
     "outputs": []
    }
   ],
   "metadata": {}
  }
 ]
}
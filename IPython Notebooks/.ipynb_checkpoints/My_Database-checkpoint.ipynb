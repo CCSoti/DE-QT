{
 "metadata": {
  "name": "",
  "signature": "sha256:92e4652cf1b4276b4a98e8ce16e78cce51f1102db06e9da9680352f840fc6513"
 },
 "nbformat": 3,
 "nbformat_minor": 0,
 "worksheets": [
  {
   "cells": [
    {
     "cell_type": "code",
     "collapsed": false,
     "input": [
      "import sqlite3\n",
      "from sqlite3 import OperationalError"
     ],
     "language": "python",
     "metadata": {},
     "outputs": [],
     "prompt_number": 20
    },
    {
     "cell_type": "code",
     "collapsed": false,
     "input": [
      "sqlite3.version"
     ],
     "language": "python",
     "metadata": {},
     "outputs": [
      {
       "metadata": {},
       "output_type": "pyout",
       "prompt_number": 21,
       "text": [
        "'2.6.0'"
       ]
      }
     ],
     "prompt_number": 21
    },
    {
     "cell_type": "code",
     "collapsed": false,
     "input": [
      "ls"
     ],
     "language": "python",
     "metadata": {},
     "outputs": [
      {
       "output_type": "stream",
       "stream": "stdout",
       "text": [
        " Volume in drive C is Acer\n",
        " Volume Serial Number is 0CD2-CE22\n",
        "\n",
        " Directory of C:\\Users\\SilviyaSoti\\Documents\\IPython Notebooks\n",
        "\n",
        "04/11/2014  12:15    <DIR>          .\n",
        "04/11/2014  12:15    <DIR>          ..\n",
        "04/11/2014  11:37    <DIR>          .ipynb_checkpoints\n",
        "26/10/2014  17:48             2,234 Database to IPython.ipynb\n",
        "27/10/2014  20:08           119,369 Education Level Histogram.ipynb\n",
        "30/10/2014  11:27            35,327 FirstResults.ipynb\n",
        "28/10/2014  14:25            56,550 Food visualization.ipynb\n",
        "26/10/2014  17:17    <DIR>          ipython-sql-0.3.4\n",
        "26/10/2014  17:16            11,243 ipython-sql-0.3.4.tar.gz\n",
        "04/11/2014  13:57             6,680 My_Database.ipynb\n",
        "26/10/2014  17:46         1,084,601 MySQL-python-1.2.3.win-amd64-py2.7.exe\n",
        "26/10/2014  14:15            28,394 Python First Attempt.ipynb\n",
        "04/11/2014  11:34               189 Untitled0.ipynb\n",
        "               9 File(s)      1,344,587 bytes\n",
        "               4 Dir(s)  626,744,676,352 bytes free\n"
       ]
      }
     ],
     "prompt_number": 22
    },
    {
     "cell_type": "code",
     "collapsed": false,
     "input": [
      "ls"
     ],
     "language": "python",
     "metadata": {},
     "outputs": [
      {
       "output_type": "stream",
       "stream": "stdout",
       "text": [
        " Volume in drive C is Acer\n",
        " Volume Serial Number is 0CD2-CE22\n",
        "\n",
        " Directory of C:\\Users\\SilviyaSoti\\Documents\\IPython Notebooks\n",
        "\n",
        "04/11/2014  12:15    <DIR>          .\n",
        "04/11/2014  12:15    <DIR>          ..\n",
        "04/11/2014  11:37    <DIR>          .ipynb_checkpoints\n",
        "26/10/2014  17:48             2,234 Database to IPython.ipynb\n",
        "27/10/2014  20:08           119,369 Education Level Histogram.ipynb\n",
        "30/10/2014  11:27            35,327 FirstResults.ipynb\n",
        "28/10/2014  14:25            56,550 Food visualization.ipynb\n",
        "26/10/2014  17:17    <DIR>          ipython-sql-0.3.4\n",
        "26/10/2014  17:16            11,243 ipython-sql-0.3.4.tar.gz\n",
        "04/11/2014  13:57             6,680 My_Database.ipynb\n",
        "26/10/2014  17:46         1,084,601 MySQL-python-1.2.3.win-amd64-py2.7.exe\n",
        "26/10/2014  14:15            28,394 Python First Attempt.ipynb\n",
        "04/11/2014  11:34               189 Untitled0.ipynb\n",
        "               9 File(s)      1,344,587 bytes\n",
        "               4 Dir(s)  626,744,676,352 bytes free\n"
       ]
      }
     ],
     "prompt_number": 23
    },
    {
     "cell_type": "code",
     "collapsed": false,
     "input": [
      "conn = sqlite3.connect(\"C:/Users/SilviyaSoti/Documents/mydb.db\")\n",
      "cursor = conn.cursor()\n",
      "fd = open(\"C:/Users/SilviyaSoti/Documents/backupdb.sql\", \"r\")\n",
      "sql_file = fd.read()\n",
      "conn.execute()\n"
     ],
     "language": "python",
     "metadata": {},
     "outputs": [
      {
       "ename": "SyntaxError",
       "evalue": "invalid syntax (<ipython-input-29-7081926cf2d3>, line 5)",
       "output_type": "pyerr",
       "traceback": [
        "\u001b[1;36m  File \u001b[1;32m\"<ipython-input-29-7081926cf2d3>\"\u001b[1;36m, line \u001b[1;32m5\u001b[0m\n\u001b[1;33m    cursor.import(sql_file)\u001b[0m\n\u001b[1;37m                ^\u001b[0m\n\u001b[1;31mSyntaxError\u001b[0m\u001b[1;31m:\u001b[0m invalid syntax\n"
       ]
      }
     ],
     "prompt_number": 29
    },
    {
     "cell_type": "code",
     "collapsed": false,
     "input": [
      "fd.close()\n",
      "\n",
      "sqlCommands = sql_file.split(';')\n",
      "for command in sqlCommands:\n",
      "    try:\n",
      "        conn.execute(command)\n",
      "    except OperationalError, msg:\n",
      "        print \"Command skipped: \", msg\n",
      "cursor.execute(\"SELECT name FROM sqlite_master WHERE type='table';\")\n",
      "print(cursor.fetchall())"
     ],
     "language": "python",
     "metadata": {},
     "outputs": []
    }
   ],
   "metadata": {}
  }
 ]
}
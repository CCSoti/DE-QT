{
 "metadata": {
  "name": "",
  "signature": "sha256:d924cddf943e0c819b888a140714efec8edfd60b56a007fb729734fb6e8bd73f"
 },
 "nbformat": 3,
 "nbformat_minor": 0,
 "worksheets": [
  {
   "cells": [
    {
     "cell_type": "code",
     "collapsed": false,
     "input": [
      "%pylab inline\n",
      "import pandas as pd\n",
      "from pandas import read_csv\n",
      "import pylab as pl\n",
      "import numpy as np\n",
      "import re\n",
      "from matplotlib import pyplot"
     ],
     "language": "python",
     "metadata": {},
     "outputs": [
      {
       "output_type": "stream",
       "stream": "stdout",
       "text": [
        "Populating the interactive namespace from numpy and matplotlib\n"
       ]
      }
     ],
     "prompt_number": 9
    },
    {
     "cell_type": "code",
     "collapsed": false,
     "input": [
      "results_data = read_csv(\"C:/Users/SilviyaSoti/Documents/4 Level Course/Project/results.csv\")"
     ],
     "language": "python",
     "metadata": {},
     "outputs": [],
     "prompt_number": 10
    },
    {
     "cell_type": "code",
     "collapsed": false,
     "input": [
      "results_data"
     ],
     "language": "python",
     "metadata": {},
     "outputs": [
      {
       "html": [
        "<div style=\"max-height:1000px;max-width:1500px;overflow:auto;\">\n",
        "<table border=\"1\" class=\"dataframe\">\n",
        "  <thead>\n",
        "    <tr style=\"text-align: right;\">\n",
        "      <th></th>\n",
        "      <th>Sample Code</th>\n",
        "      <th>Type</th>\n",
        "      <th>Latitude</th>\n",
        "      <th>Longitude</th>\n",
        "      <th>Elevation</th>\n",
        "      <th>Site</th>\n",
        "      <th>Notes</th>\n",
        "      <th>Cal Age</th>\n",
        "      <th>Cal Error</th>\n",
        "    </tr>\n",
        "  </thead>\n",
        "  <tbody>\n",
        "    <tr>\n",
        "      <th>0 </th>\n",
        "      <td> T5GLAS01</td>\n",
        "      <td> OSL</td>\n",
        "      <td> 53.5498</td>\n",
        "      <td>-9.7949</td>\n",
        "      <td>  31.0</td>\n",
        "      <td>   Glashmore Stream</td>\n",
        "      <td> There are other terraces at the same elevation...</td>\n",
        "      <td> null</td>\n",
        "      <td> null</td>\n",
        "    </tr>\n",
        "    <tr>\n",
        "      <th>1 </th>\n",
        "      <td> T5GCAL01</td>\n",
        "      <td> OSL</td>\n",
        "      <td> 53.6259</td>\n",
        "      <td>-9.6129</td>\n",
        "      <td>  61.0</td>\n",
        "      <td> Glennacally Bridge</td>\n",
        "      <td> Sample taken ~5 m from the delta top. The delt...</td>\n",
        "      <td> null</td>\n",
        "      <td> null</td>\n",
        "    </tr>\n",
        "    <tr>\n",
        "      <th>2 </th>\n",
        "      <td>  T5KSW01</td>\n",
        "      <td> OSL</td>\n",
        "      <td> 52.6422</td>\n",
        "      <td>-9.7339</td>\n",
        "      <td>  14.0</td>\n",
        "      <td>  Kilkee South West</td>\n",
        "      <td> The sample was taekn from a thin (~5-7 cm) uni...</td>\n",
        "      <td> null</td>\n",
        "      <td> null</td>\n",
        "    </tr>\n",
        "    <tr>\n",
        "      <th>3 </th>\n",
        "      <td> T5LEEN01</td>\n",
        "      <td> OSL</td>\n",
        "      <td> 53.5889</td>\n",
        "      <td>-9.6907</td>\n",
        "      <td>  51 m</td>\n",
        "      <td>      Leenane Delta</td>\n",
        "      <td> Sample taken ~15 m from the top of the delta w...</td>\n",
        "      <td> null</td>\n",
        "      <td> null</td>\n",
        "    </tr>\n",
        "    <tr>\n",
        "      <th>4 </th>\n",
        "      <td> T5LEEN02</td>\n",
        "      <td> OSL</td>\n",
        "      <td> 53.5903</td>\n",
        "      <td>-9.6894</td>\n",
        "      <td> ~35 m</td>\n",
        "      <td>      Leenane Delta</td>\n",
        "      <td> Sample taken from horizontally stratified sand...</td>\n",
        "      <td> null</td>\n",
        "      <td> null</td>\n",
        "    </tr>\n",
        "    <tr>\n",
        "      <th>5 </th>\n",
        "      <td> T5PYNE01</td>\n",
        "      <td> OSL</td>\n",
        "      <td> 52.6883</td>\n",
        "      <td>-9.4317</td>\n",
        "      <td>  32.0</td>\n",
        "      <td>           Pyne Pit</td>\n",
        "      <td> Sample taken from an ~1 m thick unit of ripple...</td>\n",
        "      <td> null</td>\n",
        "      <td> null</td>\n",
        "    </tr>\n",
        "    <tr>\n",
        "      <th>6 </th>\n",
        "      <td> T5PYNE02</td>\n",
        "      <td> OSL</td>\n",
        "      <td> 52.6883</td>\n",
        "      <td>-9.4317</td>\n",
        "      <td>  32.0</td>\n",
        "      <td>           Pyne Pit</td>\n",
        "      <td> The sample was taken from rippled fine to medi...</td>\n",
        "      <td> null</td>\n",
        "      <td> null</td>\n",
        "    </tr>\n",
        "    <tr>\n",
        "      <th>7 </th>\n",
        "      <td> T5PYNE03</td>\n",
        "      <td> OSL</td>\n",
        "      <td> 52.6883</td>\n",
        "      <td>-9.4317</td>\n",
        "      <td>  32.0</td>\n",
        "      <td>           Pyne Pit</td>\n",
        "      <td> The sample was taken from a unit of rippled me...</td>\n",
        "      <td> null</td>\n",
        "      <td> null</td>\n",
        "    </tr>\n",
        "    <tr>\n",
        "      <th>8 </th>\n",
        "      <td> T5SRAH01</td>\n",
        "      <td> OSL</td>\n",
        "      <td> 53.6770</td>\n",
        "      <td>-9.5315</td>\n",
        "      <td>  55 m</td>\n",
        "      <td>            Srahlea</td>\n",
        "      <td> Sample taken from Sh, but this unit appears to...</td>\n",
        "      <td> null</td>\n",
        "      <td> null</td>\n",
        "    </tr>\n",
        "    <tr>\n",
        "      <th>9 </th>\n",
        "      <td> T5CLOE01</td>\n",
        "      <td> OSL</td>\n",
        "      <td> 52.7125</td>\n",
        "      <td>-9.3835</td>\n",
        "      <td>  36.0</td>\n",
        "      <td>         Cooraclare</td>\n",
        "      <td> The sample is the lowest in the sequence strat...</td>\n",
        "      <td> null</td>\n",
        "      <td> null</td>\n",
        "    </tr>\n",
        "    <tr>\n",
        "      <th>10</th>\n",
        "      <td> T5CLOE02</td>\n",
        "      <td> OSL</td>\n",
        "      <td> 52.7125</td>\n",
        "      <td>-9.3835</td>\n",
        "      <td>  36.0</td>\n",
        "      <td>         Cooraclare</td>\n",
        "      <td> Sample taken from a ripple below the draped la...</td>\n",
        "      <td> null</td>\n",
        "      <td> null</td>\n",
        "    </tr>\n",
        "    <tr>\n",
        "      <th>11</th>\n",
        "      <td> T5CLOE03</td>\n",
        "      <td> OSL</td>\n",
        "      <td> 52.7125</td>\n",
        "      <td>-9.3835</td>\n",
        "      <td>  36 m</td>\n",
        "      <td>         Cooraclare</td>\n",
        "      <td> The sample was taken from an ~5-7 cm thick uni...</td>\n",
        "      <td> null</td>\n",
        "      <td> null</td>\n",
        "    </tr>\n",
        "    <tr>\n",
        "      <th>12</th>\n",
        "      <td> T5CLOE04</td>\n",
        "      <td> OSL</td>\n",
        "      <td> 52.7125</td>\n",
        "      <td>-9.3835</td>\n",
        "      <td> 36  m</td>\n",
        "      <td>         Cooraclare</td>\n",
        "      <td> This sample was collected within the same unit...</td>\n",
        "      <td> null</td>\n",
        "      <td> null</td>\n",
        "    </tr>\n",
        "  </tbody>\n",
        "</table>\n",
        "</div>"
       ],
       "metadata": {},
       "output_type": "pyout",
       "prompt_number": 11,
       "text": [
        "   Sample Code Type  Latitude  Longitude Elevation                Site  \\\n",
        "0     T5GLAS01  OSL   53.5498    -9.7949      31.0    Glashmore Stream   \n",
        "1     T5GCAL01  OSL   53.6259    -9.6129      61.0  Glennacally Bridge   \n",
        "2      T5KSW01  OSL   52.6422    -9.7339      14.0   Kilkee South West   \n",
        "3     T5LEEN01  OSL   53.5889    -9.6907      51 m       Leenane Delta   \n",
        "4     T5LEEN02  OSL   53.5903    -9.6894     ~35 m       Leenane Delta   \n",
        "5     T5PYNE01  OSL   52.6883    -9.4317      32.0            Pyne Pit   \n",
        "6     T5PYNE02  OSL   52.6883    -9.4317      32.0            Pyne Pit   \n",
        "7     T5PYNE03  OSL   52.6883    -9.4317      32.0            Pyne Pit   \n",
        "8     T5SRAH01  OSL   53.6770    -9.5315      55 m             Srahlea   \n",
        "9     T5CLOE01  OSL   52.7125    -9.3835      36.0          Cooraclare   \n",
        "10    T5CLOE02  OSL   52.7125    -9.3835      36.0          Cooraclare   \n",
        "11    T5CLOE03  OSL   52.7125    -9.3835      36 m          Cooraclare   \n",
        "12    T5CLOE04  OSL   52.7125    -9.3835     36  m          Cooraclare   \n",
        "\n",
        "                                                Notes Cal Age Cal Error  \n",
        "0   There are other terraces at the same elevation...    null      null  \n",
        "1   Sample taken ~5 m from the delta top. The delt...    null      null  \n",
        "2   The sample was taekn from a thin (~5-7 cm) uni...    null      null  \n",
        "3   Sample taken ~15 m from the top of the delta w...    null      null  \n",
        "4   Sample taken from horizontally stratified sand...    null      null  \n",
        "5   Sample taken from an ~1 m thick unit of ripple...    null      null  \n",
        "6   The sample was taken from rippled fine to medi...    null      null  \n",
        "7   The sample was taken from a unit of rippled me...    null      null  \n",
        "8   Sample taken from Sh, but this unit appears to...    null      null  \n",
        "9   The sample is the lowest in the sequence strat...    null      null  \n",
        "10  Sample taken from a ripple below the draped la...    null      null  \n",
        "11  The sample was taken from an ~5-7 cm thick uni...    null      null  \n",
        "12  This sample was collected within the same unit...    null      null  "
       ]
      }
     ],
     "prompt_number": 11
    },
    {
     "cell_type": "code",
     "collapsed": false,
     "input": [
      "results_data.dtypes"
     ],
     "language": "python",
     "metadata": {},
     "outputs": [
      {
       "metadata": {},
       "output_type": "pyout",
       "prompt_number": 12,
       "text": [
        "Sample Code     object\n",
        "Type            object\n",
        "Latitude       float64\n",
        "Longitude      float64\n",
        "Elevation       object\n",
        "Site            object\n",
        "Notes           object\n",
        "Cal Age         object\n",
        "Cal Error       object\n",
        "dtype: object"
       ]
      }
     ],
     "prompt_number": 12
    },
    {
     "cell_type": "code",
     "collapsed": false,
     "input": [
      "results_data[\"Latitude\"].max()"
     ],
     "language": "python",
     "metadata": {},
     "outputs": [
      {
       "metadata": {},
       "output_type": "pyout",
       "prompt_number": 13,
       "text": [
        "53.677"
       ]
      }
     ],
     "prompt_number": 13
    },
    {
     "cell_type": "code",
     "collapsed": false,
     "input": [
      "results_data[\"Latitude\"].mean()"
     ],
     "language": "python",
     "metadata": {},
     "outputs": [
      {
       "metadata": {},
       "output_type": "pyout",
       "prompt_number": 14,
       "text": [
        "53.045307692307688"
       ]
      }
     ],
     "prompt_number": 14
    },
    {
     "cell_type": "code",
     "collapsed": false,
     "input": [
      "results_data.Latitude.describe(percentile_width=25)"
     ],
     "language": "python",
     "metadata": {},
     "outputs": [
      {
       "output_type": "stream",
       "stream": "stderr",
       "text": [
        "C:\\Users\\SilviyaSoti\\Anaconda\\lib\\site-packages\\pandas\\core\\generic.py:3595: FutureWarning: The `percentile_width` keyword is deprecated. Use percentiles=[0.375, 0.5, 0.625] instead\n",
        "  warnings.warn(msg, FutureWarning)\n"
       ]
      },
      {
       "metadata": {},
       "output_type": "pyout",
       "prompt_number": 15,
       "text": [
        "count    13.000000\n",
        "mean     53.045308\n",
        "std       0.462876\n",
        "min      52.642200\n",
        "37.5%    52.712500\n",
        "50%      52.712500\n",
        "62.5%    53.131150\n",
        "max      53.677000\n",
        "dtype: float64"
       ]
      }
     ],
     "prompt_number": 15
    },
    {
     "cell_type": "code",
     "collapsed": false,
     "input": [
      "results_data.Latitude.hist"
     ],
     "language": "python",
     "metadata": {},
     "outputs": [
      {
       "metadata": {},
       "output_type": "pyout",
       "prompt_number": 16,
       "text": [
        "<bound method Series.hist_series of 0     53.5498\n",
        "1     53.6259\n",
        "2     52.6422\n",
        "3     53.5889\n",
        "4     53.5903\n",
        "5     52.6883\n",
        "6     52.6883\n",
        "7     52.6883\n",
        "8     53.6770\n",
        "9     52.7125\n",
        "10    52.7125\n",
        "11    52.7125\n",
        "12    52.7125\n",
        "Name: Latitude, dtype: float64>"
       ]
      }
     ],
     "prompt_number": 16
    },
    {
     "cell_type": "code",
     "collapsed": false,
     "input": [
      "pd.value_counts(results_data.Latitude).plot(kind='bar')"
     ],
     "language": "python",
     "metadata": {},
     "outputs": [
      {
       "metadata": {},
       "output_type": "pyout",
       "prompt_number": 17,
       "text": [
        "<matplotlib.axes._subplots.AxesSubplot at 0xb805860>"
       ]
      },
      {
       "metadata": {},
       "output_type": "display_data",
       "png": "[encoded data removed]",
       "text": [
        "<matplotlib.figure.Figure at 0xb76e3c8>"
       ]
      }
     ],
     "prompt_number": 17
    },
    {
     "cell_type": "code",
     "collapsed": false,
     "input": [
      "results_data[\"Latitude\"].hist(bins=30)"
     ],
     "language": "python",
     "metadata": {},
     "outputs": [
      {
       "metadata": {},
       "output_type": "pyout",
       "prompt_number": 18,
       "text": [
        "<matplotlib.axes._subplots.AxesSubplot at 0xb8cf6d8>"
       ]
      },
      {
       "metadata": {},
       "output_type": "display_data",
       "png": "[encoded data removed]",
       "text": [
        "<matplotlib.figure.Figure at 0xb805470>"
       ]
      }
     ],
     "prompt_number": 18
    }
   ],
   "metadata": {}
  }
 ]
}
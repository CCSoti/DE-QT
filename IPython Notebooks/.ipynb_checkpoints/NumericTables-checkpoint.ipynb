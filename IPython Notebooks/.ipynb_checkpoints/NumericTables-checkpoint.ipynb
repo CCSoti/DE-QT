{
 "metadata": {
  "name": "",
  "signature": "sha256:a06fbc25b863c0a355e4fda043c569a458cf0f2fe68f696f99023ef7c1bf2e63"
 },
 "nbformat": 3,
 "nbformat_minor": 0,
 "worksheets": [
  {
   "cells": [
    {
     "cell_type": "code",
     "collapsed": false,
     "input": [
      "import pandas as pd\n",
      "from pandas import DataFrame, Series\n",
      "import numpy\n",
      "import matplotlib\n",
      "import sqlite3\n",
      "import sys\n",
      "# import MySQLdb as mdb\n",
      "import csv\n",
      "%pylab inline\n",
      "import pandas as pd\n",
      "import matplotlib.pyplot as pyplot\n",
      "from IPython.display import HTML\n",
      "from collections import Counter"
     ],
     "language": "python",
     "metadata": {},
     "outputs": [
      {
       "output_type": "stream",
       "stream": "stdout",
       "text": [
        "Populating the interactive namespace from numpy and matplotlib\n"
       ]
      }
     ],
     "prompt_number": 1
    },
    {
     "cell_type": "code",
     "collapsed": false,
     "input": [
      "conn = sqlite3.connect(\"C:/Users/SilviyaSoti/Documents/4_Level_Course/Project/codemets.db\")\n",
      "result= conn.execute('select * from mappingapp_sample')\n",
      "cursor = conn.cursor()"
     ],
     "language": "python",
     "metadata": {},
     "outputs": [],
     "prompt_number": 2
    },
    {
     "cell_type": "code",
     "collapsed": false,
     "input": [
      "cursor.execute('select * from mappingapp_coordinates')\n",
      "allAttr = cursor.fetchall()\n",
      "ids = [attr[0] for attr in allAttr]\n",
      "bng_ing = [attr[1] for attr in allAttr]\n",
      "grid_ref = [attr[2] for attr in allAttr]\n",
      "easting = [attr[3] for attr in allAttr]\n",
      "northing = [attr[4] for attr in allAttr]\n",
      "lat = [attr[5] for attr in allAttr]\n",
      "longs = [attr[6] for attr in allAttr]\n",
      "elevation = [attr[7] for attr in allAttr]"
     ],
     "language": "python",
     "metadata": {},
     "outputs": [],
     "prompt_number": 4
    },
    {
     "cell_type": "code",
     "collapsed": false,
     "input": [
      "print lat"
     ],
     "language": "python",
     "metadata": {},
     "outputs": [
      {
       "output_type": "stream",
       "stream": "stdout",
       "text": [
        "[54.83157, 54.83157, 53.5498, 53.5498, 53.14528, 58.14, 52.7125, 52.7125, 53.6259, 53.6259, 52.6422, 52.6422, 53.5889, 53.5889, 52.6883, 52.6883, 52.6102, 52.6102, 53.677, 53.677, 53.5602, 53.5602, None, 53.45195, 53.43167, 53.14528, 53.14362, 53.535, 53.55333, 53.55467, 53.48133, 53.48137, 53.48148, 53.06722, 53.07805, 53.07972, 53.31518, 53.31572, 53.31473, 53.28083, 53.28278, 53.28333, 53.20602, None, 54.723, 54.7228, 54.7225, 54.7231, 54.7225, 54.715, 54.715, 54.707, 54.7085, 54.7079, 54.7076, 54.7076, 54.619, 54.6187, 54.6187, 54.6187, 54.6189, 59.92799, 59.92799, 60.12014, 60.12014, 60.11866, 60.11988, 60.12434, 60.12487, 60.15116, 60.15116, 60.15116, 60.14101, 60.14101, 60.14101, 59.92799, 59.92774, 59.92758, 59.92911, 59.9295, 59.92959, 59.92964, 53.151608, 53.15161, 53.15159, 53.1516, 53.15162, 54.209658, 54.20966, 54.20966, 54.286049, 54.28605, 53.074726, 53.07557, 53.07473, 53.07351, 53.798592, 53.79859, 53.79843, 52.532527, 52.53174, 52.53206, 52.53293, 52.670323, 52.67033, 52.6695, 52.6696, 53.239899, 53.2399, 53.2399, 54.35282, 54.35282, 54.355732, 54.35573, 54.35573, 53.710539, 53.71037, 53.71044, 53.71041, 54.328403, 54.3284, 54.3284, 52.886017, 52.88466, 52.88476, 54.087905, 54.08791, 58.35, 56.33, 60.329613, 60.32961, 60.32961, 60.269749, 60.26975, 60.26975, 53.3867, 53.38667, 53.3867, 53.38667, 53.38667, 54.818435, 54.81844, 54.81844, 53.033747, 53.03375, 53.03451, 51.969823, 51.96981, 53.233429, 53.23343, 53.23343, 53.23343, 53.106509, 53.1059, 53.1059, 52.106176, 52.10618, 52.1042, 52.10345, 49.966764, 49.96676, 49.96676, 49.96676, 49.96676, 49.96676, 49.96676, 53.221149, 53.22115, 53.005883, 53.00588, 53.00588, 53.00588, 52.896371, 52.89637, 52.89637, 53.16499, 53.16499, 53.16499, 53.38667, 52.179, 52.179, 52.179, 52.1812, 52.1824, 53.287222, 53.28722, 53.28722, 53.28722, 52.93739, 52.93739, 52.93739, 52.93739, 52.619176, 52.61918, 52.61918, 52.4451, 52.4316, 52.4316, 52.4451, 52.4451, 52.4642, 52.4813, 52.4813, 54.7228, 54.7225, 54.7231, 54.7225, 54.6187, 54.6187, 54.6187, 54.6189, 58.35084, 58.351, 58.33901, 58.33901, 58.45795, 58.45807, 58.4577, 58.45162, 58.46778, 58.46778, 58.33, 58.33179, 58.33321, 58.33345, 58.33244, 58.3336, 58.51, 58.50924, 58.51291, 58.51291, 58.51336, 58.51336, 58.47, 58.47479, None, 58.14014, 58.13979, 58.14827, 58.14827, 58.14836, 58.14836, 58.26, 58.26177, 58.37, 58.44507, 58.22268, 58.22268, 59.95141, 59.95141, 59.95141, 58.47584, 58.47584, 58.48689, 58.48689, 58.48689, 57.27035, 57.27035, None, None, 58.13, 58.13438, 58.13454, 58.13454, 58.13488, 58.13833, 58.13, 58.13, 58.18, 58.18058, 58.18058, 58.18161, 58.1814, 58.18118, 58.18137, None, 55.04048, 55.04048, 55.14325, 55.14325, 55.1918, 55.1918, 55.09869, 55.09869, 55.148, 55.1536, 55.15361, 55.15361, 55.14466, 55.14466, 55.21709, 53.8866, 53.8866, 53.8866, 54.668333, 54.66833, 54.66833, 53.708, 53.708, 53.708, 53.708, 53.7811, 53.7811, 53.7811, 53.7811, 53.7122, 53.7122, 53.7122, 53.7122, 54.4958, 54.4958, 54.4958, 54.4958, 54.811914, 54.81191, 54.81191, 54.81191, 53.9797, 53.9797, 53.9797, 53.3744, 53.3744, 54.1784, 54.1784, 54.1784, 54.1784, 54.1784, 53.53722, 53.5395, 53.53823, 458962.0, 448741.0, 448715.0, 448712.0, 454636.0, 454574.0, 423254.0, 423250.0, 454620.0, 56.3374, 56.33748, 56.33752, 56.33882, 56.3372, 58.62165, 58.62165, 58.61914, 58.61913, 58.61862, 58.61866, 58.62594, 58.22231, 58.22365, 58.22426, 58.37, 58.37495, 58.37525, 58.37525, 58.37262, 58.37405, 57.48, 57.47665, 57.47823, 57.47841, 57.4784, 57.48033, 57.48032, 57.3871, 57.38712, 57.38711, 57.38711, 57.38711, 58.24521, 58.24489, 58.24259, 57.701, 57.7028, 57.70177, 57.70149, 57.7028, 56.3, 56.287, 56.28706, 56.287, 56.2883, 56.28945, 56.28988, 56.46, 56.45547, 56.45527, 56.45484, 56.45464, 56.45423, 56.45236, 56.45243, 56.45392, 56.45043, 56.29, 56.28791, 56.28779, 56.28699, 56.2658, 56.28716, 56.28617, 56.28567, 54.07156, 56.07156, 54.07156, 54.1509, 54.1509, 54.1507]\n"
       ]
      }
     ],
     "prompt_number": 6
    },
    {
     "cell_type": "code",
     "collapsed": false,
     "input": [
      "from decimal import Decimal\n",
      "import math\n",
      "import statistics\n",
      "\n",
      "class Numerical(list):\n",
      "    \n",
      "    def _max_precission_(self): \n",
      "        decimals = []  \n",
      "        for l in self:\n",
      "            if(l is None):\n",
      "                self.remove(l)   \n",
      "            if (l!=None):\n",
      "                dec = abs(Decimal(str(l)).as_tuple().exponent)\n",
      "                decimals.append(dec)\n",
      "\n",
      "        print (min(decimals),max(decimals))\n",
      "        \n",
      "    def _min_value_(self):\n",
      "        for l in self:\n",
      "            if(l is None):\n",
      "                self.remove(l)\n",
      "        print min(self)\n",
      "        \n",
      "    def _max_value_(self):\n",
      "#         big_list = []\n",
      "        small_list = []\n",
      "        for l in self:\n",
      "            if(l is not None):                               \n",
      "                if(l<500):\n",
      "#                 big_list.append(l)\n",
      "#                 self.remove(l) \n",
      "                  small_list.append(l)\n",
      "        print max(small_list)\n",
      "        \n",
      "    def _strd_dev_(self):\n",
      "        small_list = []\n",
      "        for l in self:\n",
      "            if(l is not None):                               \n",
      "                if(l<500):\n",
      "                  small_list.append(l)\n",
      "        print pstdev(small_list)"
     ],
     "language": "python",
     "metadata": {},
     "outputs": [
      {
       "ename": "ImportError",
       "evalue": "No module named statistics",
       "output_type": "pyerr",
       "traceback": [
        "\u001b[1;31m---------------------------------------------------------------------------\u001b[0m\n\u001b[1;31mImportError\u001b[0m                               Traceback (most recent call last)",
        "\u001b[1;32m<ipython-input-192-19964b445c8c>\u001b[0m in \u001b[0;36m<module>\u001b[1;34m()\u001b[0m\n\u001b[0;32m      1\u001b[0m \u001b[1;32mfrom\u001b[0m \u001b[0mdecimal\u001b[0m \u001b[1;32mimport\u001b[0m \u001b[0mDecimal\u001b[0m\u001b[1;33m\u001b[0m\u001b[0m\n\u001b[0;32m      2\u001b[0m \u001b[1;32mimport\u001b[0m \u001b[0mmath\u001b[0m\u001b[1;33m\u001b[0m\u001b[0m\n\u001b[1;32m----> 3\u001b[1;33m \u001b[1;32mimport\u001b[0m \u001b[0mstatistics\u001b[0m\u001b[1;33m\u001b[0m\u001b[0m\n\u001b[0m\u001b[0;32m      4\u001b[0m \u001b[1;33m\u001b[0m\u001b[0m\n\u001b[0;32m      5\u001b[0m \u001b[1;32mclass\u001b[0m \u001b[0mNumerical\u001b[0m\u001b[1;33m(\u001b[0m\u001b[0mlist\u001b[0m\u001b[1;33m)\u001b[0m\u001b[1;33m:\u001b[0m\u001b[1;33m\u001b[0m\u001b[0m\n",
        "\u001b[1;31mImportError\u001b[0m: No module named statistics"
       ]
      }
     ],
     "prompt_number": 192
    },
    {
     "cell_type": "code",
     "collapsed": false,
     "input": [
      "Numerical(lat)._min_value_()\n",
      "Numerical(lat)._max_value_()\n",
      "Numerical(lat)._strd_dev_()"
     ],
     "language": "python",
     "metadata": {},
     "outputs": [
      {
       "output_type": "stream",
       "stream": "stdout",
       "text": [
        "49.96676\n",
        "60.329613\n"
       ]
      },
      {
       "ename": "NameError",
       "evalue": "global name 'pstdev' is not defined",
       "output_type": "pyerr",
       "traceback": [
        "\u001b[1;31m---------------------------------------------------------------------------\u001b[0m\n\u001b[1;31mNameError\u001b[0m                                 Traceback (most recent call last)",
        "\u001b[1;32m<ipython-input-189-d0dba0c89ea8>\u001b[0m in \u001b[0;36m<module>\u001b[1;34m()\u001b[0m\n\u001b[0;32m      1\u001b[0m \u001b[0mNumerical\u001b[0m\u001b[1;33m(\u001b[0m\u001b[0mlat\u001b[0m\u001b[1;33m)\u001b[0m\u001b[1;33m.\u001b[0m\u001b[0m_min_value_\u001b[0m\u001b[1;33m(\u001b[0m\u001b[1;33m)\u001b[0m\u001b[1;33m\u001b[0m\u001b[0m\n\u001b[0;32m      2\u001b[0m \u001b[0mNumerical\u001b[0m\u001b[1;33m(\u001b[0m\u001b[0mlat\u001b[0m\u001b[1;33m)\u001b[0m\u001b[1;33m.\u001b[0m\u001b[0m_max_value_\u001b[0m\u001b[1;33m(\u001b[0m\u001b[1;33m)\u001b[0m\u001b[1;33m\u001b[0m\u001b[0m\n\u001b[1;32m----> 3\u001b[1;33m \u001b[0mNumerical\u001b[0m\u001b[1;33m(\u001b[0m\u001b[0mlat\u001b[0m\u001b[1;33m)\u001b[0m\u001b[1;33m.\u001b[0m\u001b[0m_strd_dev_\u001b[0m\u001b[1;33m(\u001b[0m\u001b[1;33m)\u001b[0m\u001b[1;33m\u001b[0m\u001b[0m\n\u001b[0m",
        "\u001b[1;32m<ipython-input-188-5d2e05f1a6e2>\u001b[0m in \u001b[0;36m_strd_dev_\u001b[1;34m(self)\u001b[0m\n\u001b[0;32m     38\u001b[0m                 \u001b[1;32mif\u001b[0m\u001b[1;33m(\u001b[0m\u001b[0ml\u001b[0m\u001b[1;33m<\u001b[0m\u001b[1;36m500\u001b[0m\u001b[1;33m)\u001b[0m\u001b[1;33m:\u001b[0m\u001b[1;33m\u001b[0m\u001b[0m\n\u001b[0;32m     39\u001b[0m                   \u001b[0msmall_list\u001b[0m\u001b[1;33m.\u001b[0m\u001b[0mappend\u001b[0m\u001b[1;33m(\u001b[0m\u001b[0ml\u001b[0m\u001b[1;33m)\u001b[0m\u001b[1;33m\u001b[0m\u001b[0m\n\u001b[1;32m---> 40\u001b[1;33m         \u001b[1;32mprint\u001b[0m \u001b[0mpstdev\u001b[0m\u001b[1;33m(\u001b[0m\u001b[0msmall_list\u001b[0m\u001b[1;33m)\u001b[0m\u001b[1;33m\u001b[0m\u001b[0m\n\u001b[0m",
        "\u001b[1;31mNameError\u001b[0m: global name 'pstdev' is not defined"
       ]
      }
     ],
     "prompt_number": 189
    },
    {
     "cell_type": "code",
     "collapsed": false,
     "input": [
      "pstdev([1,2,3,4,5])"
     ],
     "language": "python",
     "metadata": {},
     "outputs": [
      {
       "ename": "NameError",
       "evalue": "name 'pstdev' is not defined",
       "output_type": "pyerr",
       "traceback": [
        "\u001b[1;31m---------------------------------------------------------------------------\u001b[0m\n\u001b[1;31mNameError\u001b[0m                                 Traceback (most recent call last)",
        "\u001b[1;32m<ipython-input-190-3dd4d76f9501>\u001b[0m in \u001b[0;36m<module>\u001b[1;34m()\u001b[0m\n\u001b[1;32m----> 1\u001b[1;33m \u001b[0mpstdev\u001b[0m\u001b[1;33m(\u001b[0m\u001b[1;33m[\u001b[0m\u001b[1;36m1\u001b[0m\u001b[1;33m,\u001b[0m\u001b[1;36m2\u001b[0m\u001b[1;33m,\u001b[0m\u001b[1;36m3\u001b[0m\u001b[1;33m,\u001b[0m\u001b[1;36m4\u001b[0m\u001b[1;33m,\u001b[0m\u001b[1;36m5\u001b[0m\u001b[1;33m]\u001b[0m\u001b[1;33m)\u001b[0m\u001b[1;33m\u001b[0m\u001b[0m\n\u001b[0m",
        "\u001b[1;31mNameError\u001b[0m: name 'pstdev' is not defined"
       ]
      }
     ],
     "prompt_number": 190
    },
    {
     "cell_type": "code",
     "collapsed": false,
     "input": [],
     "language": "python",
     "metadata": {},
     "outputs": []
    }
   ],
   "metadata": {}
  }
 ]
}
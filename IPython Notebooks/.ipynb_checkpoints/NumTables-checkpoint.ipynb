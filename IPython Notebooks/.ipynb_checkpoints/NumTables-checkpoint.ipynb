{
 "metadata": {
  "name": "",
  "signature": "sha256:83fa98347fbda9036133ea3299568bcb26dd369d1bd6db5755061b6d1910eadd"
 },
 "nbformat": 3,
 "nbformat_minor": 0,
 "worksheets": [
  {
   "cells": [
    {
     "cell_type": "code",
     "collapsed": false,
     "input": [
      "import pandas as pd\n",
      "from pandas import DataFrame, Series\n",
      "import numpy\n",
      "import matplotlib\n",
      "import sqlite3\n",
      "import sys\n",
      "# import MySQLdb as mdb\n",
      "import csv\n",
      "%pylab inline\n",
      "import pandas as pd\n",
      "import matplotlib.pyplot as pyplot\n",
      "from IPython.display import HTML\n",
      "from collections import Counter"
     ],
     "language": "python",
     "metadata": {},
     "outputs": [
      {
       "output_type": "stream",
       "stream": "stdout",
       "text": [
        "Populating the interactive namespace from numpy and matplotlib\n"
       ]
      }
     ],
     "prompt_number": 1
    },
    {
     "cell_type": "code",
     "collapsed": false,
     "input": [
      "conn = sqlite3.connect(\"C:/Users/SilviyaSoti/Documents/4_Level_Course/Project/codemets.db\")\n",
      "result= conn.execute('select * from mappingapp_sample')\n",
      "cursor = conn.cursor()"
     ],
     "language": "python",
     "metadata": {},
     "outputs": [],
     "prompt_number": 2
    },
    {
     "cell_type": "code",
     "collapsed": false,
     "input": [
      "cursor.execute('select * from mappingapp_coordinates')\n",
      "allAttr = cursor.fetchall()\n",
      "ids = [attr[0] for attr in allAttr]\n",
      "bng_ing = [attr[1] for attr in allAttr]\n",
      "grid_ref = [attr[2] for attr in allAttr]\n",
      "easting = [attr[3] for attr in allAttr]\n",
      "northing = [attr[4] for attr in allAttr]\n",
      "lat = [attr[5] for attr in allAttr]\n",
      "longs = [attr[6] for attr in allAttr]\n",
      "elevation = [attr[7] for attr in allAttr]"
     ],
     "language": "python",
     "metadata": {},
     "outputs": [],
     "prompt_number": 3
    },
    {
     "cell_type": "code",
     "collapsed": false,
     "input": [
      "from decimal import Decimal\n",
      "from statistics import *\n",
      "import math\n",
      "\n",
      "class Numerical(list):\n",
      "    \n",
      "    def clear_data(self):\n",
      "        small_list = []\n",
      "        for l in self:\n",
      "            if(l is not None):                               \n",
      "                if(l<500):\n",
      "                  small_list.append(l)                    \n",
      "        return small_list\n",
      "    \n",
      "    def _max_precission_(self): \n",
      "        decimals = []  \n",
      "        small_list = Numerical(self).clear_data()\n",
      "        for k in small_list:\n",
      "            dec = abs(Decimal(str(k)).as_tuple().exponent)\n",
      "            decimals.append(dec)\n",
      "        print (max(decimals))\n",
      "    \n",
      "    def _min_precission_(self): \n",
      "        decimals = []  \n",
      "        small_list = Numerical(self).clear_data()\n",
      "        for k in small_list:\n",
      "            dec = abs(Decimal(str(k)).as_tuple().exponent)\n",
      "            decimals.append(dec)\n",
      "        print (min(decimals))\n",
      "        \n",
      "    def _min_value_(self):\n",
      "        small_list = Numerical(self).clear_data()\n",
      "        print (min(small_list))\n",
      "        \n",
      "    def _max_value_(self):\n",
      "        small_list = Numerical(self).clear_data()\n",
      "        print (max(small_list))\n",
      "        \n",
      "    def _strd_dev_(self):\n",
      "        small_list = Numerical(self).clear_data()\n",
      "        print (pstdev(small_list))\n",
      "        \n",
      "    def _mean_(self):\n",
      "        small_list = Numerical(self).clear_data()\n",
      "        print (mean(small_list))\n",
      "        "
     ],
     "language": "python",
     "metadata": {},
     "outputs": [],
     "prompt_number": 36
    },
    {
     "cell_type": "code",
     "collapsed": false,
     "input": [
      "Numerical(lat)._min_value_()\n",
      "Numerical(lat)._max_value_()\n",
      "Numerical(lat)._strd_dev_()\n",
      "Numerical(lat)._max_precission_()\n",
      "Numerical(lat)._min_precission_()\n",
      "Numerical(lat)._mean_()"
     ],
     "language": "python",
     "metadata": {},
     "outputs": [
      {
       "output_type": "stream",
       "stream": "stdout",
       "text": [
        "49.96676\n",
        "60.329613\n",
        "2.516513668688992\n",
        "6\n",
        "1\n",
        "55.39122528030303\n"
       ]
      }
     ],
     "prompt_number": 37
    },
    {
     "cell_type": "code",
     "collapsed": false,
     "input": [],
     "language": "python",
     "metadata": {},
     "outputs": []
    }
   ],
   "metadata": {}
  }
 ]
}
{
 "metadata": {
  "name": "",
  "signature": "sha256:6859e8f348627de3cc0f2d6eb28f85282effadce0a3ea41a8ecd9c20892acc71"
 },
 "nbformat": 3,
 "nbformat_minor": 0,
 "worksheets": []
}
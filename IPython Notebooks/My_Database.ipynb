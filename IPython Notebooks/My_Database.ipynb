{
 "metadata": {
  "name": "",
  "signature": "sha256:e8932afbb1cb78cc0cf8f7db62ca8201fd6449ca4c6fecd3a64d5f22b0fb8b5c"
 },
 "nbformat": 3,
 "nbformat_minor": 0,
 "worksheets": [
  {
   "cells": [
    {
     "cell_type": "code",
     "collapsed": false,
     "input": [
      "import sqlite3\n",
      "from sqlite3 import OperationalError"
     ],
     "language": "python",
     "metadata": {},
     "outputs": [],
     "prompt_number": 1
    },
    {
     "cell_type": "code",
     "collapsed": false,
     "input": [
      "sqlite3.version"
     ],
     "language": "python",
     "metadata": {},
     "outputs": [
      {
       "metadata": {},
       "output_type": "pyout",
       "prompt_number": 2,
       "text": [
        "'2.6.0'"
       ]
      }
     ],
     "prompt_number": 2
    },
    {
     "cell_type": "code",
     "collapsed": false,
     "input": [
      "ls"
     ],
     "language": "python",
     "metadata": {},
     "outputs": [
      {
       "output_type": "stream",
       "stream": "stdout",
       "text": [
        " Volume in drive C is Acer\n",
        " Volume Serial Number is 0CD2-CE22\n",
        "\n",
        " Directory of C:\\Users\\SilviyaSoti\\Documents\\IPython Notebooks\n",
        "\n",
        "04/11/2014  12:15    <DIR>          .\n",
        "04/11/2014  12:15    <DIR>          ..\n",
        "04/11/2014  11:37    <DIR>          .ipynb_checkpoints\n",
        "26/10/2014  17:48             2,234 Database to IPython.ipynb\n",
        "27/10/2014  20:08           119,369 Education Level Histogram.ipynb\n",
        "30/10/2014  11:27            35,327 FirstResults.ipynb\n",
        "28/10/2014  14:25            56,550 Food visualization.ipynb\n",
        "26/10/2014  17:17    <DIR>          ipython-sql-0.3.4\n",
        "26/10/2014  17:16            11,243 ipython-sql-0.3.4.tar.gz\n",
        "04/11/2014  14:25             5,492 My_Database.ipynb\n",
        "26/10/2014  17:46         1,084,601 MySQL-python-1.2.3.win-amd64-py2.7.exe\n",
        "26/10/2014  14:15            28,394 Python First Attempt.ipynb\n",
        "04/11/2014  11:34               189 Untitled0.ipynb\n",
        "               9 File(s)      1,343,399 bytes\n",
        "               4 Dir(s)  620,004,286,464 bytes free\n"
       ]
      }
     ],
     "prompt_number": 3
    },
    {
     "cell_type": "code",
     "collapsed": false,
     "input": [
      "ls"
     ],
     "language": "python",
     "metadata": {},
     "outputs": [
      {
       "output_type": "stream",
       "stream": "stdout",
       "text": [
        " Volume in drive C is Acer\n",
        " Volume Serial Number is 0CD2-CE22\n",
        "\n",
        " Directory of C:\\Users\\SilviyaSoti\\Documents\\IPython Notebooks\n",
        "\n",
        "04/11/2014  12:15    <DIR>          .\n",
        "04/11/2014  12:15    <DIR>          ..\n",
        "04/11/2014  11:37    <DIR>          .ipynb_checkpoints\n",
        "26/10/2014  17:48             2,234 Database to IPython.ipynb\n",
        "27/10/2014  20:08           119,369 Education Level Histogram.ipynb\n",
        "30/10/2014  11:27            35,327 FirstResults.ipynb\n",
        "28/10/2014  14:25            56,550 Food visualization.ipynb\n",
        "26/10/2014  17:17    <DIR>          ipython-sql-0.3.4\n",
        "26/10/2014  17:16            11,243 ipython-sql-0.3.4.tar.gz\n",
        "04/11/2014  14:25             5,492 My_Database.ipynb\n",
        "26/10/2014  17:46         1,084,601 MySQL-python-1.2.3.win-amd64-py2.7.exe\n",
        "26/10/2014  14:15            28,394 Python First Attempt.ipynb\n",
        "04/11/2014  11:34               189 Untitled0.ipynb\n",
        "               9 File(s)      1,343,399 bytes\n",
        "               4 Dir(s)  620,004,286,464 bytes free\n"
       ]
      }
     ],
     "prompt_number": 4
    },
    {
     "cell_type": "code",
     "collapsed": false,
     "input": [
      "conn = sqlite3.connect(\"C:/Users/SilviyaSoti/Documents/mydb.db\")\n",
      "cursor = conn.cursor()\n",
      "fd = open(\"C:/Users/SilviyaSoti/Documents/backupdb.sql\", \"r\")\n",
      "sql_file = fd.read()\n",
      "conn.execute()"
     ],
     "language": "python",
     "metadata": {},
     "outputs": [
      {
       "ename": "TypeError",
       "evalue": "function takes at least 1 argument (0 given)",
       "output_type": "pyerr",
       "traceback": [
        "\u001b[1;31m---------------------------------------------------------------------------\u001b[0m\n\u001b[1;31mTypeError\u001b[0m                                 Traceback (most recent call last)",
        "\u001b[1;32m<ipython-input-6-07b26d533049>\u001b[0m in \u001b[0;36m<module>\u001b[1;34m()\u001b[0m\n\u001b[0;32m      3\u001b[0m \u001b[0mfd\u001b[0m \u001b[1;33m=\u001b[0m \u001b[0mopen\u001b[0m\u001b[1;33m(\u001b[0m\u001b[1;34m\"C:/Users/SilviyaSoti/Documents/backupdb.sql\"\u001b[0m\u001b[1;33m,\u001b[0m \u001b[1;34m\"r\"\u001b[0m\u001b[1;33m)\u001b[0m\u001b[1;33m\u001b[0m\u001b[0m\n\u001b[0;32m      4\u001b[0m \u001b[0msql_file\u001b[0m \u001b[1;33m=\u001b[0m \u001b[0mfd\u001b[0m\u001b[1;33m.\u001b[0m\u001b[0mread\u001b[0m\u001b[1;33m(\u001b[0m\u001b[1;33m)\u001b[0m\u001b[1;33m\u001b[0m\u001b[0m\n\u001b[1;32m----> 5\u001b[1;33m \u001b[0mconn\u001b[0m\u001b[1;33m.\u001b[0m\u001b[0mexecute\u001b[0m\u001b[1;33m(\u001b[0m\u001b[1;33m)\u001b[0m\u001b[1;33m\u001b[0m\u001b[0m\n\u001b[0m",
        "\u001b[1;31mTypeError\u001b[0m: function takes at least 1 argument (0 given)"
       ]
      }
     ],
     "prompt_number": 6
    },
    {
     "cell_type": "code",
     "collapsed": false,
     "input": [
      "sqlite3"
     ],
     "language": "python",
     "metadata": {},
     "outputs": [
      {
       "metadata": {},
       "output_type": "pyout",
       "prompt_number": 14,
       "text": [
        "<module 'sqlite3' from 'C:\\Users\\SilviyaSoti\\Anaconda\\lib\\sqlite3\\__init__.pyc'>"
       ]
      }
     ],
     "prompt_number": 14
    },
    {
     "cell_type": "code",
     "collapsed": false,
     "input": [
      "sqlite3.read(\"C:/Users/SilviyaSoti/Documents/backupdb.sql\")"
     ],
     "language": "python",
     "metadata": {},
     "outputs": [
      {
       "ename": "AttributeError",
       "evalue": "'module' object has no attribute 'read'",
       "output_type": "pyerr",
       "traceback": [
        "\u001b[1;31m---------------------------------------------------------------------------\u001b[0m\n\u001b[1;31mAttributeError\u001b[0m                            Traceback (most recent call last)",
        "\u001b[1;32m<ipython-input-17-a7016c0c47bf>\u001b[0m in \u001b[0;36m<module>\u001b[1;34m()\u001b[0m\n\u001b[1;32m----> 1\u001b[1;33m \u001b[0msqlite3\u001b[0m\u001b[1;33m.\u001b[0m\u001b[0mread\u001b[0m\u001b[1;33m(\u001b[0m\u001b[1;34m\"C:/Users/SilviyaSoti/Documents/backupdb.sql\"\u001b[0m\u001b[1;33m)\u001b[0m\u001b[1;33m\u001b[0m\u001b[0m\n\u001b[0m",
        "\u001b[1;31mAttributeError\u001b[0m: 'module' object has no attribute 'read'"
       ]
      }
     ],
     "prompt_number": 17
    },
    {
     "cell_type": "code",
     "collapsed": false,
     "input": [],
     "language": "python",
     "metadata": {},
     "outputs": []
    }
   ],
   "metadata": {}
  }
 ]
}
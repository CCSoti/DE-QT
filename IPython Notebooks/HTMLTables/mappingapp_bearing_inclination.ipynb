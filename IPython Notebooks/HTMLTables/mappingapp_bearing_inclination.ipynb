{
 "metadata": {
  "name": "",
  "signature": "sha256:b125849a0e3dbeada0af201c7472bf60d61f297b5934c9083a92748ab9dd2fea"
 },
 "nbformat": 3,
 "nbformat_minor": 0,
 "worksheets": [
  {
   "cells": [
    {
     "cell_type": "code",
     "collapsed": false,
     "input": [
      "import pandas as pd\n",
      "import distance\n",
      "from pandas import DataFrame, Series\n",
      "import numpy\n",
      "import matplotlib\n",
      "import sqlite3\n",
      "import sys\n",
      "# import MySQLdb as mdb\n",
      "import csv\n",
      "%pylab inline\n",
      "import pandas as pd\n",
      "import matplotlib.pyplot as pyplot\n",
      "from IPython.display import HTML\n",
      "from collections import Counter\n",
      "\n",
      "\n",
      "from decimal import Decimal\n",
      "from statistics import *\n",
      "import math\n",
      "\n",
      "class Numerical(list):\n",
      "    \n",
      "    def clear_data(self):\n",
      "        small_list = []\n",
      "        for l in self:\n",
      "            if(l is not None):                               \n",
      "                if(l<500):\n",
      "                  small_list.append(l)                    \n",
      "        return small_list\n",
      "    \n",
      "    def _max_precission_(self): \n",
      "        decimals = []  \n",
      "        small_list = Numerical(self).clear_data()\n",
      "        for k in small_list:\n",
      "            dec = abs(Decimal(str(k)).as_tuple().exponent)\n",
      "            decimals.append(dec)\n",
      "        return max(decimals)\n",
      "    \n",
      "    def _min_precission_(self): \n",
      "        decimals = []  \n",
      "        small_list = Numerical(self).clear_data()\n",
      "        for k in small_list:\n",
      "            dec = abs(Decimal(str(k)).as_tuple().exponent)\n",
      "            decimals.append(dec)\n",
      "        return min(decimals)\n",
      "    \n",
      "    def _mean_precission_(self): \n",
      "        decimals = []  \n",
      "        small_list = Numerical(self).clear_data()\n",
      "        for k in small_list:\n",
      "            dec = abs(Decimal(str(k)).as_tuple().exponent)\n",
      "            decimals.append(dec)\n",
      "        return mean(decimals)\n",
      "        \n",
      "    def _min_value_(self):\n",
      "        small_list = Numerical(self).clear_data()\n",
      "        return min(small_list)\n",
      "        \n",
      "    def _max_value_(self):\n",
      "        small_list = Numerical(self).clear_data()\n",
      "        return max(small_list)\n",
      "        \n",
      "    def _strd_dev_(self):\n",
      "        small_list = Numerical(self).clear_data()\n",
      "        return pstdev(small_list)\n",
      "        \n",
      "    def _mean_(self):\n",
      "        small_list = Numerical(self).clear_data()\n",
      "        return mean(small_list)"
     ],
     "language": "python",
     "metadata": {},
     "outputs": [
      {
       "output_type": "stream",
       "stream": "stdout",
       "text": [
        "Populating the interactive namespace from numpy and matplotlib\n"
       ]
      }
     ],
     "prompt_number": 1
    },
    {
     "cell_type": "code",
     "collapsed": false,
     "input": [
      "import unicodedata\n",
      "\n",
      "class ListTable(list):\n",
      "\n",
      "    def _repr_html_(self):\n",
      "        html = [\"<table>\"]\n",
      "        for row in self:\n",
      "            html.append(\"<tr>\")\n",
      "            \n",
      "            for col in row:\n",
      "                html.append(\"<td>{0}</td>\".format(col))\n",
      "            \n",
      "            html.append(\"</tr>\")\n",
      "        html.append(\"</table>\")\n",
      "        return ''.join(html)"
     ],
     "language": "python",
     "metadata": {},
     "outputs": [],
     "prompt_number": 2
    },
    {
     "cell_type": "code",
     "collapsed": false,
     "input": [
      "conn = sqlite3.connect(\"C:/Users/SilviyaSoti/Documents/4_Level_Course/Project/codemets.db\")\n",
      "result= conn.execute('select * from mappingapp_sample')\n",
      "cursor = conn.cursor()\n",
      "\n",
      "cursor.execute('select * from mappingapp_bearing_inclination')\n",
      "allAttr = cursor.fetchall()\n",
      "bearing = [attr[1] for attr in allAttr]\n",
      "inclination = [attr[2] for attr in allAttr]"
     ],
     "language": "python",
     "metadata": {},
     "outputs": [],
     "prompt_number": 5
    },
    {
     "cell_type": "code",
     "collapsed": false,
     "input": [
      "table = ListTable()\n",
      "titles = [\"Field\", \"Max Value\", \"Min Value\", \"Avg Value\", \"Max Precission\", \"Min Precission\", \"Avg Precission\", \"Std Deviation\"]\n",
      "table.append(titles) \n",
      "bear = Numerical(bearing)\n",
      "inclin = Numerical(inclination)\n",
      "bears = [\"Bearing\", bear._max_value_(), bear._min_value_(), bear._mean_(), bear._max_precission_(), bear._min_precission_(), round(bear._mean_precission_()), bear._strd_dev_()]\n",
      "inclins = [\"Inclination\", inclin._max_value_(), inclin._min_value_(), inclin._mean_(), inclin._max_precission_(), inclin._min_precission_(), round(inclin._mean_precission_()), inclin._strd_dev_()]\n",
      "table.append(bears)\n",
      "table.append(inclins)\n",
      "table"
     ],
     "language": "python",
     "metadata": {},
     "outputs": [
      {
       "html": [
        "<table><tr><td>Field</td><td>Max Value</td><td>Min Value</td><td>Avg Value</td><td>Max Precission</td><td>Min Precission</td><td>Avg Precission</td><td>Std Deviation</td></tr><tr><td>Bearing</td><td>360</td><td>0</td><td>182.81551020408162</td><td>0</td><td>0</td><td>0</td><td>105.40757942505793</td></tr><tr><td>Inclination</td><td>25</td><td>0</td><td>3.3142857142857145</td><td>0</td><td>0</td><td>0</td><td>4.235708263064859</td></tr></table>"
       ],
       "metadata": {},
       "output_type": "pyout",
       "prompt_number": 6,
       "text": [
        "[['Field',\n",
        "  'Max Value',\n",
        "  'Min Value',\n",
        "  'Avg Value',\n",
        "  'Max Precission',\n",
        "  'Min Precission',\n",
        "  'Avg Precission',\n",
        "  'Std Deviation'],\n",
        " ['Bearing', 360, 0, 182.81551020408162, 0, 0, 0, 105.40757942505793],\n",
        " ['Inclination', 25, 0, 3.3142857142857145, 0, 0, 0, 4.235708263064859]]"
       ]
      }
     ],
     "prompt_number": 6
    },
    {
     "cell_type": "code",
     "collapsed": false,
     "input": [],
     "language": "python",
     "metadata": {},
     "outputs": []
    }
   ],
   "metadata": {}
  }
 ]
}
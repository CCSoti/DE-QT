{
 "metadata": {
  "name": "",
  "signature": "sha256:2a4e90e4b5aca8b3d13cafe7527114504abd671f87b2a500b90924e3081f432d"
 },
 "nbformat": 3,
 "nbformat_minor": 0,
 "worksheets": [
  {
   "cells": [
    {
     "cell_type": "code",
     "collapsed": false,
     "input": [],
     "language": "python",
     "metadata": {},
     "outputs": []
    }
   ],
   "metadata": {}
  }
 ]
}